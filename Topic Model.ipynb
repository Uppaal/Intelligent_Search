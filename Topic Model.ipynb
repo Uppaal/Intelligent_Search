{
 "cells": [
  {
   "cell_type": "code",
   "execution_count": 1,
   "metadata": {},
   "outputs": [],
   "source": [
    "# Import packages\n",
    "import numpy as np\n",
    "import gensim\n",
    "import nltk\n",
    "import pprint \n",
    "from gensim import corpora\n",
    "from nltk.tokenize import RegexpTokenizer"
   ]
  },
  {
   "cell_type": "code",
   "execution_count": 8,
   "metadata": {},
   "outputs": [],
   "source": [
    "# Load data\n",
    "X  = np.load('one_hot_coco.npy')"
   ]
  },
  {
   "cell_type": "code",
   "execution_count": 9,
   "metadata": {},
   "outputs": [
    {
     "name": "stdout",
     "output_type": "stream",
     "text": [
      "Data shape:  (118060, 4096)\n",
      "Number of 0s:  66475570\n",
      "Number of 1s:  417098190\n",
      "Anomailes:  0\n"
     ]
    }
   ],
   "source": [
    "# Get data statistics, as a sanity check\n",
    "print(\"Data shape: \", X.shape)\n",
    "print(\"Number of 0s: \", np.sum(X == 1))\n",
    "print(\"Number of 1s: \", np.sum(X == 0))\n",
    "print(\"Anomailes: \",np.sum([X < 0]))\n",
    "\n",
    "# Note: number of 1s is far more than 0s. Thus, there are many 'stopword' features. Look at ways to remove/normalize."
   ]
  },
  {
   "cell_type": "code",
   "execution_count": 10,
   "metadata": {},
   "outputs": [],
   "source": [
    "# Process the raw data\n",
    "doc = []\n",
    "for i in range(1000): #X.shape[0]): # 118060\n",
    "    doc_list = []\n",
    "    for j in range(X.shape[1]): # 4096\n",
    "        doc_list.append((j, X[i,j]))\n",
    "    doc.append(doc_list)"
   ]
  },
  {
   "cell_type": "code",
   "execution_count": 85,
   "metadata": {},
   "outputs": [],
   "source": [
    "# Define parameters for topic modelling\n",
    "num_topics = 50\n",
    "num_words = 4096                                          # Number of top features to be displayed per topic\n",
    "model_name = str(num_topics) + '-topics.model'\n",
    "topics_file_name = 'topic_model_features_' + str(num_topics) +'_topics.npy'"
   ]
  },
  {
   "cell_type": "code",
   "execution_count": 86,
   "metadata": {},
   "outputs": [],
   "source": [
    "# Create the Topic Model\n",
    "ldamodel = gensim.models.ldamodel.LdaModel(doc, num_topics = num_topics, passes=15)\n",
    "ldamodel.save(model_name)"
   ]
  },
  {
   "cell_type": "code",
   "execution_count": 87,
   "metadata": {},
   "outputs": [],
   "source": [
    "# Raw output\n",
    "topic_distribution = ldamodel.print_topics(num_words=num_words)\n",
    "#print (topic_distribution)"
   ]
  },
  {
   "cell_type": "code",
   "execution_count": 88,
   "metadata": {},
   "outputs": [],
   "source": [
    "# Extract feature ids per topic from raw output\n",
    "topics = np.zeros([num_topics, num_words])\n",
    "tokenizer = RegexpTokenizer(r'\\w+')\n",
    "\n",
    "for topic_ids in topic_distribution:\n",
    "    topic_id = topic_ids[0]\n",
    "    all_features = topic_ids[1]\n",
    "\n",
    "    feature_values = tokenizer.tokenize(all_features)     # Tokenize the string to keep all numbers\n",
    "    feature_values = list(map(int, feature_values))       # Convert values of list to int\n",
    "    feature_values = np.asarray(feature_values[2::3]) * np.asarray(feature_values[1::3])   # Remove all features with 0 weightage in topic\n",
    "    \n",
    "    topics[topic_id] = feature_values\n",
    "        \n",
    "# Save feature values in npy file\n",
    "np.save(topics_file_name, topics)\n",
    "\n",
    "#topics is a numpy array with one row representing one topic. The columns contain the indices of the features belonging to that topic, in decreasing order of how strongly linked a feature is to that topic. The vectors have been padded with 0s in the end."
   ]
  },
  {
   "cell_type": "code",
   "execution_count": null,
   "metadata": {},
   "outputs": [],
   "source": []
  }
 ],
 "metadata": {
  "kernelspec": {
   "display_name": "Python 3",
   "language": "python",
   "name": "python3"
  },
  "language_info": {
   "codemirror_mode": {
    "name": "ipython",
    "version": 3
   },
   "file_extension": ".py",
   "mimetype": "text/x-python",
   "name": "python",
   "nbconvert_exporter": "python",
   "pygments_lexer": "ipython3",
   "version": "3.6.4"
  }
 },
 "nbformat": 4,
 "nbformat_minor": 2
}
